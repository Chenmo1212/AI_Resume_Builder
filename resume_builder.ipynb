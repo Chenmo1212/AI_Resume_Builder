{
 "cells": [
  {
   "cell_type": "code",
   "execution_count": null,
   "id": "2404c675-ed88-48ea-89f4-5f8b66945068",
   "metadata": {},
   "outputs": [],
   "source": [
    "%load_ext autoreload\n",
    "%autoreload 2"
   ]
  },
  {
   "cell_type": "code",
   "execution_count": null,
   "id": "e588ea9b-a56d-448b-8a76-6feef951e56b",
   "metadata": {},
   "outputs": [],
   "source": [
    "import os\n",
    "from pprint import pprint\n",
    "from datetime import datetime\n",
    "\n",
    "from IPython.display import display, Markdown\n",
    "\n",
    "import utils\n",
    "import prompts\n",
    "\n",
    "from prompts import Job_Post, Resume_Builder"
   ]
  },
  {
   "cell_type": "code",
   "execution_count": null,
   "id": "e52eea83-6cae-48c1-a59d-9b240e96ff94",
   "metadata": {},
   "outputs": [],
   "source": [
    "## Inputs\n",
    "my_files_dir = \"my_applications\"\n",
    "job_file = \"square.job\"\n",
    "raw_resume_file = \"resume_raw.yaml\"\n",
    "\n",
    "# open_ai model. gpt-4 can be 20-30 times costlier than the default model gpt-3.5-turbo\n",
    "openai_model_name = \"gpt-4\"\n",
    "openai_model_name = \"gpt-3.5-turbo\""
   ]
  },
  {
   "cell_type": "code",
   "execution_count": null,
   "id": "b1a0a1ca-3621-4dc7-a34d-c6f9eafd1b4e",
   "metadata": {},
   "outputs": [],
   "source": [
    "# Step 1 - Read and parse job posting\n",
    "job_post = Job_Post(\n",
    "    utils.read_jobfile(os.path.join(my_files_dir, job_file)),\n",
    "    temperature=0.3,\n",
    "    model_name=openai_model_name,\n",
    ")\n",
    "parsed_job = job_post.parse_job_post()\n",
    "utils.write_yaml(parsed_job)"
   ]
  },
  {
   "cell_type": "code",
   "execution_count": null,
   "id": "5b6c0aac-9a22-4de0-8400-8769e944e763",
   "metadata": {},
   "outputs": [],
   "source": [
    "# Step 2 - read raw resume and create Resume builder object\n",
    "my_resume = Resume_Builder(\n",
    "    raw_resume=utils.read_yaml(os.path.join(my_files_dir, raw_resume_file)),\n",
    "    job_post=job_post,\n",
    "    temperature=0,\n",
    "    model_name=openai_model_name,\n",
    ")\n",
    "projects = my_resume.projects_raw\n",
    "experiences = my_resume.experiences_raw\n",
    "skills = my_resume.skills_raw"
   ]
  },
  {
   "cell_type": "code",
   "execution_count": null,
   "id": "c242c2a6-ef33-403c-bf2e-7926cf8d43fa",
   "metadata": {},
   "outputs": [],
   "source": [
    "# Step 3 - Rewrite sections as needed\n",
    "# Comment out any lines for sections that do not need to be revised\n",
    "experiences = my_resume.rewrite_unedited_experiences(verbose=False)\n",
    "projects = my_resume.rewrite_section(section=projects, verbose=False)\n",
    "\n",
    "pprint(\n",
    "    dict(experiences=experiences, projects=projects),\n",
    "    indent=1,\n",
    "    width=80,\n",
    "    sort_dicts=False,\n",
    ")"
   ]
  },
  {
   "cell_type": "code",
   "execution_count": null,
   "id": "78577096-41ca-4b3b-91f4-2af1fc4931bd",
   "metadata": {},
   "outputs": [],
   "source": [
    "# Step 4 - Review the generated output in previous cell.\n",
    "# If any updates are needed, copy the corresponding variables and make edits\n",
    "# Leave this cell blank if no edits are needed\n"
   ]
  },
  {
   "cell_type": "code",
   "execution_count": null,
   "id": "7b8ffc17-0e00-44fb-8497-27c79e7e4581",
   "metadata": {},
   "outputs": [],
   "source": [
    "# Step 6 - Extract skills\n",
    "my_resume.experiences = experiences\n",
    "my_resume.projects = projects\n",
    "\n",
    "skills = my_resume.extract_skills(verbose=False)\n",
    "pprint(\n",
    "    dict(skills=skills, projects=my_resume.projects, experiences=my_resume.experiences),\n",
    "    indent=1,\n",
    "    width=80,\n",
    "    sort_dicts=False,\n",
    ")"
   ]
  },
  {
   "cell_type": "code",
   "execution_count": null,
   "id": "0465055f-7203-40d8-89a2-e06b1d01bb34",
   "metadata": {},
   "outputs": [],
   "source": [
    "# Step 7 - Make any changes to skills, projects, or experiences by copying them from previous cell's output\n",
    "# and editing as needed. Leave this cell blank if no changes are needed.\n"
   ]
  },
  {
   "cell_type": "code",
   "execution_count": null,
   "id": "06c974b6-0f3b-4aa5-bbf5-588e22859e76",
   "metadata": {},
   "outputs": [],
   "source": [
    "# Step 8 - Identify resume improvements\n",
    "my_resume.experiences = experiences\n",
    "my_resume.skills = skills\n",
    "my_resume.projects = projects\n",
    "\n",
    "improvements = my_resume.suggest_improvements(verbose=False)\n",
    "pprint(improvements, indent=1, width=100, sort_dicts=False)"
   ]
  },
  {
   "cell_type": "code",
   "execution_count": null,
   "id": "5b697181-d9fd-4e2b-9721-ffe0a6f19685",
   "metadata": {
    "scrolled": true
   },
   "outputs": [],
   "source": [
    "# Step 9 - Update experience, skills, projects from Step 6/7 based on suggested improvements\n",
    "# Leave this cell blank if no edits are needed.\n"
   ]
  },
  {
   "cell_type": "code",
   "execution_count": null,
   "id": "0cec373a-2ce3-41da-baf5-ea5efbaf0682",
   "metadata": {},
   "outputs": [],
   "source": [
    "# Step 10 - Create a resume summary\n",
    "my_resume.experiences = experiences\n",
    "my_resume.skills = skills\n",
    "my_resume.projects = projects\n",
    "\n",
    "summary = my_resume.create_summary(verbose=False)\n",
    "pprint(\n",
    "    dict(\n",
    "        summary=summary,\n",
    "        experience=my_resume.experiences,\n",
    "        projects=my_resume.projects,\n",
    "        skills=skills,\n",
    "    ),\n",
    "    indent=1,\n",
    "    width=80,\n",
    "    sort_dicts=False,\n",
    ")"
   ]
  },
  {
   "cell_type": "code",
   "execution_count": null,
   "id": "6c0c98a8-97fa-4ec8-b4ff-92ef81ffc0ed",
   "metadata": {},
   "outputs": [],
   "source": [
    "# Step 11 - Make any changes to summary, experience, projects, skills by copying it from previous cell's output\n",
    "# and editing as needed. Leave this cell blank if no changes are needed.\n"
   ]
  },
  {
   "cell_type": "code",
   "execution_count": null,
   "id": "1e5e6f52-abb8-4026-91df-a60084b5377f",
   "metadata": {},
   "outputs": [],
   "source": [
    "# Step 12 - Generate final resume yaml for review\n",
    "my_resume.summary = summary\n",
    "my_resume.experiences = experiences\n",
    "my_resume.projects = projects\n",
    "my_resume.skills = skills\n",
    "\n",
    "company_name = my_resume.job_post.parsed_job[\"company\"]\n",
    "job_title = my_resume.job_post.parsed_job[\"job_title\"]\n",
    "today_date = datetime.today().strftime(\"%Y%m%d\")\n",
    "resume_filename = os.path.join(\n",
    "    my_files_dir, f\"{today_date}__{company_name}__{job_title}\"\n",
    ")\n",
    "resume_final = my_resume.finalize()\n",
    "print(f\"#filename: {resume_filename}.yaml\\n\")\n",
    "utils.write_yaml(resume_final, filename=f\"{resume_filename}.yaml\")"
   ]
  },
  {
   "cell_type": "code",
   "execution_count": null,
   "id": "bc802f8e-9d13-45ca-b4f9-01f614cbb591",
   "metadata": {},
   "outputs": [],
   "source": [
    "# Generate pdf from yaml - you can directly edit the yaml file as needed, and re-run this cell\n",
    "pdf_file = utils.generate_pdf(yaml_file=f\"{resume_filename}.yaml\")\n",
    "display(Markdown((f\"[{pdf_file}](<{pdf_file}>)\")))"
   ]
  },
  {
   "cell_type": "code",
   "execution_count": null,
   "id": "785e7827-c5d4-4940-9107-163cea955a16",
   "metadata": {},
   "outputs": [],
   "source": []
  }
 ],
 "metadata": {
  "kernelspec": {
   "display_name": "Python 3 (ipykernel)",
   "language": "python",
   "name": "python3"
  },
  "language_info": {
   "codemirror_mode": {
    "name": "ipython",
    "version": 3
   },
   "file_extension": ".py",
   "mimetype": "text/x-python",
   "name": "python",
   "nbconvert_exporter": "python",
   "pygments_lexer": "ipython3",
   "version": "3.11.4"
  }
 },
 "nbformat": 4,
 "nbformat_minor": 5
}
